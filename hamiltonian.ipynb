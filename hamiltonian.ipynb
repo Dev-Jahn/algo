{
 "cells": [
  {
   "cell_type": "code",
   "execution_count": 1,
   "metadata": {},
   "outputs": [],
   "source": [
    "from numpy import *"
   ]
  },
  {
   "cell_type": "code",
   "execution_count": 10,
   "metadata": {},
   "outputs": [],
   "source": [
    "def hamiltonian(i) :\n",
    "    def promising(i) :\n",
    "        if i==n-1 and not W[vindex[n-1]][vindex[0]] :\n",
    "            switch = False\n",
    "        elif i>0 and not W[vindex[i-1]][vindex[i]] :\n",
    "            switch = False\n",
    "        else :\n",
    "            switch = True\n",
    "            for j in range(1,i) :\n",
    "                if vindex[i] == vindex[j] :\n",
    "                    switch = False\n",
    "                    break\n",
    "        return switch\n",
    "    if promising(i) :\n",
    "        print('promising(',i,')=',promising(i))\n",
    "        if i == n-1 :\n",
    "            for j in range(n-1) :\n",
    "                print(vindex[j], ', ',end='')\n",
    "            print()\n",
    "        else :\n",
    "            for j in range(2,n+1) :\n",
    "                #print('vindex[',i+1,']=',j)\n",
    "                vindex[i+1] = j\n",
    "                #print('hamilton',i+1)\n",
    "                #print('rec',i,'>',i+1)\n",
    "                hamiltonian(i+1)\n",
    "                #print('----------------')\n",
    "            #print('+++++++++++++++')"
   ]
  },
  {
   "cell_type": "code",
   "execution_count": 11,
   "metadata": {},
   "outputs": [],
   "source": [
    "I = True\n",
    "O = False\n",
    "n = 5\n",
    "W = array([ [O,O,O,O,O,O],\n",
    "            [O,I,I,O,O,I],\n",
    "            [O,I,I,I,I,I],\n",
    "            [O,O,I,I,I,O],\n",
    "            [O,O,I,I,I,O],\n",
    "            [O,I,I,O,O,I] ])\n",
    "vindex = zeros((n,),dtype=int64)"
   ]
  },
  {
   "cell_type": "code",
   "execution_count": 12,
   "metadata": {},
   "outputs": [
    {
     "data": {
      "text/plain": [
       "array([0, 0, 0, 0, 0])"
      ]
     },
     "execution_count": 12,
     "metadata": {},
     "output_type": "execute_result"
    }
   ],
   "source": [
    "vindex"
   ]
  },
  {
   "cell_type": "code",
   "execution_count": 13,
   "metadata": {
    "scrolled": false
   },
   "outputs": [
    {
     "name": "stdout",
     "output_type": "stream",
     "text": [
      "promising( 0 )= True\n",
      "rec 0 > 1\n",
      "promising( 1 )= True\n",
      "rec 1 > 2\n",
      "----------------\n",
      "rec 1 > 2\n",
      "promising( 2 )= True\n",
      "rec 2 > 3\n",
      "----------------\n",
      "rec 2 > 3\n",
      "----------------\n",
      "rec 2 > 3\n",
      "promising( 3 )= True\n",
      "rec 3 > 4\n",
      "----------------\n",
      "rec 3 > 4\n",
      "----------------\n",
      "rec 3 > 4\n",
      "----------------\n",
      "rec 3 > 4\n",
      "----------------\n",
      "+++++++++++++++\n",
      "----------------\n",
      "rec 2 > 3\n",
      "----------------\n",
      "+++++++++++++++\n",
      "----------------\n",
      "rec 1 > 2\n",
      "promising( 2 )= True\n",
      "rec 2 > 3\n",
      "----------------\n",
      "rec 2 > 3\n",
      "promising( 3 )= True\n",
      "rec 3 > 4\n",
      "----------------\n",
      "rec 3 > 4\n",
      "----------------\n",
      "rec 3 > 4\n",
      "----------------\n",
      "rec 3 > 4\n",
      "----------------\n",
      "+++++++++++++++\n",
      "----------------\n",
      "rec 2 > 3\n",
      "----------------\n",
      "rec 2 > 3\n",
      "----------------\n",
      "+++++++++++++++\n",
      "----------------\n",
      "rec 1 > 2\n",
      "promising( 2 )= True\n",
      "rec 2 > 3\n",
      "----------------\n",
      "rec 2 > 3\n",
      "----------------\n",
      "rec 2 > 3\n",
      "----------------\n",
      "rec 2 > 3\n",
      "----------------\n",
      "+++++++++++++++\n",
      "----------------\n",
      "+++++++++++++++\n",
      "----------------\n",
      "rec 0 > 1\n",
      "----------------\n",
      "rec 0 > 1\n",
      "----------------\n",
      "rec 0 > 1\n",
      "promising( 1 )= True\n",
      "rec 1 > 2\n",
      "promising( 2 )= True\n",
      "rec 2 > 3\n",
      "----------------\n",
      "rec 2 > 3\n",
      "promising( 3 )= True\n",
      "rec 3 > 4\n",
      "----------------\n",
      "rec 3 > 4\n",
      "----------------\n",
      "rec 3 > 4\n",
      "----------------\n",
      "rec 3 > 4\n",
      "----------------\n",
      "+++++++++++++++\n",
      "----------------\n",
      "rec 2 > 3\n",
      "promising( 3 )= True\n",
      "rec 3 > 4\n",
      "----------------\n",
      "rec 3 > 4\n",
      "----------------\n",
      "rec 3 > 4\n",
      "----------------\n",
      "rec 3 > 4\n",
      "----------------\n",
      "+++++++++++++++\n",
      "----------------\n",
      "rec 2 > 3\n",
      "----------------\n",
      "+++++++++++++++\n",
      "----------------\n",
      "rec 1 > 2\n",
      "----------------\n",
      "rec 1 > 2\n",
      "----------------\n",
      "rec 1 > 2\n",
      "----------------\n",
      "+++++++++++++++\n",
      "----------------\n",
      "+++++++++++++++\n"
     ]
    }
   ],
   "source": [
    "vindex[0] = 1\n",
    "hamiltonian(0)"
   ]
  },
  {
   "cell_type": "code",
   "execution_count": null,
   "metadata": {},
   "outputs": [],
   "source": []
  },
  {
   "cell_type": "code",
   "execution_count": 60,
   "metadata": {},
   "outputs": [],
   "source": [
    "I = True\n",
    "O = False\n",
    "n = 8\n",
    "W = array([ [O,O,O,O,O,O,O,O,O],\n",
    "            [O,I,I,I,O,O,O,I,I],\n",
    "            [O,I,I,I,O,O,O,I,I],\n",
    "            [O,I,I,I,I,O,I,O,O],\n",
    "            [O,O,O,I,I,I,O,O,O],\n",
    "            [O,O,O,O,I,I,I,O,O],\n",
    "            [O,O,O,I,O,I,I,I,O],\n",
    "            [O,I,I,O,O,O,I,I,I],\n",
    "            [O,I,I,O,O,O,O,I,I] ])\n",
    "vindex = zeros((n,),dtype=int64)"
   ]
  },
  {
   "cell_type": "code",
   "execution_count": 61,
   "metadata": {},
   "outputs": [
    {
     "data": {
      "text/plain": [
       "array([0, 0, 0, 0, 0, 0, 0, 0])"
      ]
     },
     "execution_count": 61,
     "metadata": {},
     "output_type": "execute_result"
    }
   ],
   "source": [
    "vindex"
   ]
  },
  {
   "cell_type": "code",
   "execution_count": 62,
   "metadata": {},
   "outputs": [
    {
     "name": "stdout",
     "output_type": "stream",
     "text": [
      "1 , 2 , 3 , 4 , 5 , 6 , 7 , \n",
      "1 , 2 , 8 , 7 , 6 , 5 , 4 , \n",
      "1 , 3 , 4 , 5 , 6 , 7 , 2 , \n",
      "1 , 3 , 4 , 5 , 6 , 7 , 8 , \n",
      "1 , 7 , 6 , 5 , 4 , 3 , 2 , \n",
      "1 , 8 , 2 , 3 , 4 , 5 , 6 , \n",
      "1 , 8 , 2 , 7 , 6 , 5 , 4 , \n",
      "1 , 8 , 7 , 6 , 5 , 4 , 3 , \n"
     ]
    }
   ],
   "source": [
    "vindex[0] = 1\n",
    "hamiltonian(0)"
   ]
  },
  {
   "cell_type": "code",
   "execution_count": 22,
   "metadata": {},
   "outputs": [
    {
     "data": {
      "text/plain": [
       "0"
      ]
     },
     "execution_count": 22,
     "metadata": {},
     "output_type": "execute_result"
    }
   ],
   "source": [
    "cnt"
   ]
  },
  {
   "cell_type": "code",
   "execution_count": null,
   "metadata": {},
   "outputs": [],
   "source": []
  }
 ],
 "metadata": {
  "kernelspec": {
   "display_name": "Python 3",
   "language": "python",
   "name": "python3"
  },
  "language_info": {
   "codemirror_mode": {
    "name": "ipython",
    "version": 3
   },
   "file_extension": ".py",
   "mimetype": "text/x-python",
   "name": "python",
   "nbconvert_exporter": "python",
   "pygments_lexer": "ipython3",
   "version": "3.6.4"
  }
 },
 "nbformat": 4,
 "nbformat_minor": 2
}
