{
 "cells": [
  {
   "cell_type": "code",
   "execution_count": 3,
   "metadata": {},
   "outputs": [],
   "source": [
    "import numpy as np"
   ]
  },
  {
   "cell_type": "code",
   "execution_count": 120,
   "metadata": {},
   "outputs": [],
   "source": [
    "def minmult(n,d,P):\n",
    "    M = np.zeros((n+1,n+1), dtype=np.int64)\n",
    "    for diag in range(1,n):\n",
    "        for i in range(1,n-diag+1):\n",
    "            j = i+diag\n",
    "            mlist = [ M[i,k]+ M[k+1,j] + d[i-1]*d[k]*d[j] for k in range(i,j)]\n",
    "            M[i][j] = min(mlist)\n",
    "            print(mlist)\n",
    "            P[i,j] = i + np.argmin(mlist)\n",
    "    return M[1,n]\n",
    "def order(P,i,j):\n",
    "    if i==j:\n",
    "        print('A',i,end='')\n",
    "    else:\n",
    "        k = P[i,j]\n",
    "        print('(',end='')\n",
    "        order(P,i,k)\n",
    "        order(P,k+1,j)\n",
    "        print(')',end='')"
   ]
  },
  {
   "cell_type": "code",
   "execution_count": 121,
   "metadata": {},
   "outputs": [
    {
     "name": "stdout",
     "output_type": "stream",
     "text": [
      "[30]\n",
      "[24]\n",
      "[72]\n",
      "[168]\n",
      "[336]\n",
      "[64, 90]\n",
      "[108, 72]\n",
      "[252, 198]\n",
      "[528, 392]\n",
      "[132, 192, 184]\n",
      "[240, 248, 156]\n",
      "[488, 552, 366]\n",
      "[226, 333, 372, 342]\n",
      "[414, 480, 504, 268]\n",
      "[348, 516, 616, 708, 506]\n"
     ]
    },
    {
     "data": {
      "text/plain": [
       "348"
      ]
     },
     "execution_count": 121,
     "metadata": {},
     "output_type": "execute_result"
    }
   ],
   "source": [
    "n = 6\n",
    "d = [5,2,3,4,6,7,8]\n",
    "P = np.zeros((n+1,n+1),dtype=np.int64)\n",
    "minmult(n,d,P)"
   ]
  },
  {
   "cell_type": "code",
   "execution_count": 122,
   "metadata": {},
   "outputs": [
    {
     "name": "stdout",
     "output_type": "stream",
     "text": [
      "(A 1((((A 2A 3)A 4)A 5)A 6))"
     ]
    }
   ],
   "source": [
    "order(P,1,n)"
   ]
  },
  {
   "cell_type": "code",
   "execution_count": null,
   "metadata": {},
   "outputs": [],
   "source": []
  }
 ],
 "metadata": {
  "kernelspec": {
   "display_name": "Python 3",
   "language": "python",
   "name": "python3"
  },
  "language_info": {
   "codemirror_mode": {
    "name": "ipython",
    "version": 3
   },
   "file_extension": ".py",
   "mimetype": "text/x-python",
   "name": "python",
   "nbconvert_exporter": "python",
   "pygments_lexer": "ipython3",
   "version": "3.6.4"
  }
 },
 "nbformat": 4,
 "nbformat_minor": 2
}
