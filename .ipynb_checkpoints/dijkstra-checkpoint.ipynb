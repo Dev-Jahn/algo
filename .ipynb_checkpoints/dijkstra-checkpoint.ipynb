{
 "cells": [
  {
   "cell_type": "code",
   "execution_count": 9,
   "metadata": {},
   "outputs": [],
   "source": [
    "from numpy import *"
   ]
  },
  {
   "cell_type": "code",
   "execution_count": 32,
   "metadata": {},
   "outputs": [],
   "source": [
    "def dijkstra(n, W, F):\n",
    "    touch = zeros((1,n+1), dtype=int64)\n",
    "    length = zeros((1,n+1), dtype=int64)\n",
    "    vnear = 0;\n",
    "    for i in range(2, n+1):\n",
    "        touch[0][i] = 1\n",
    "        length[0][i] = W[1][i]\n",
    "    print('init')\n",
    "    print('len',length)\n",
    "    print('touch',touch)\n",
    "    for j in range(n-1):\n",
    "        print('----------')\n",
    "        min = 999\n",
    "        for i in range(2, n+1):\n",
    "            if 0 <= length[0][i] and length[0][i] < min:\n",
    "                min = length[0][i]\n",
    "                vnear = i\n",
    "        print('len',length)\n",
    "        F.add((touch[0][vnear], vnear))\n",
    "        for i in range(2, n+1):\n",
    "            if length[0][vnear] + W[vnear][i] < length[0][i]:\n",
    "                length[0][i] = length[0][vnear] + W[vnear][i]\n",
    "                touch[0][i] = vnear\n",
    "        print('len',length)\n",
    "        length[0][vnear] = -1\n",
    "        print('touch',touch)\n",
    "    return F"
   ]
  },
  {
   "cell_type": "code",
   "execution_count": 33,
   "metadata": {},
   "outputs": [],
   "source": [
    "n = 5\n",
    "x = 999\n",
    "W = array([[x,x,x,x,x,x],\n",
    "           [x,0,7,4,6,1],\n",
    "           [x,x,0,x,x,x],\n",
    "           [x,x,2,0,5,x],\n",
    "           [x,x,3,x,0,x],\n",
    "           [x,x,x,x,1,0]])\n",
    "F = set()"
   ]
  },
  {
   "cell_type": "code",
   "execution_count": 34,
   "metadata": {},
   "outputs": [
    {
     "name": "stdout",
     "output_type": "stream",
     "text": [
      "----------\n",
      "len [[0 0 7 4 6 1]]\n",
      "len [[0 0 7 4 2 1]]\n",
      "touch [[0 0 1 1 5 1]]\n",
      "----------\n",
      "len [[ 0  0  7  4  2 -1]]\n",
      "len [[ 0  0  5  4  2 -1]]\n",
      "touch [[0 0 4 1 5 1]]\n",
      "----------\n",
      "len [[ 0  0  5  4 -1 -1]]\n",
      "len [[ 0  0  5  4 -1 -1]]\n",
      "touch [[0 0 4 1 5 1]]\n",
      "----------\n",
      "len [[ 0  0  5 -1 -1 -1]]\n",
      "len [[ 0  0  5 -1 -1 -1]]\n",
      "touch [[0 0 4 1 5 1]]\n"
     ]
    },
    {
     "data": {
      "text/plain": [
       "{(1, 3), (1, 5), (4, 2), (5, 4)}"
      ]
     },
     "execution_count": 34,
     "metadata": {},
     "output_type": "execute_result"
    }
   ],
   "source": [
    "dijkstra(n,W,F)"
   ]
  },
  {
   "cell_type": "code",
   "execution_count": 35,
   "metadata": {},
   "outputs": [],
   "source": [
    "n = 5\n",
    "x = 999\n",
    "W = array([[x,x,x,x,x,x],\n",
    "           [x,0,8,6,x,5],\n",
    "           [x,x,0,4,x,x],\n",
    "           [x,x,x,0,1,3],\n",
    "           [x,x,x,x,0,x],\n",
    "           [x,x,7,x,2,0]])\n",
    "F = set()"
   ]
  },
  {
   "cell_type": "code",
   "execution_count": 36,
   "metadata": {},
   "outputs": [
    {
     "name": "stdout",
     "output_type": "stream",
     "text": [
      "----------\n",
      "len [[  0   0   8   6 999   5]]\n",
      "len [[0 0 8 6 7 5]]\n",
      "touch [[0 0 1 1 5 1]]\n",
      "----------\n",
      "len [[ 0  0  8  6  7 -1]]\n",
      "len [[ 0  0  8  6  7 -1]]\n",
      "touch [[0 0 1 1 5 1]]\n",
      "----------\n",
      "len [[ 0  0  8 -1  7 -1]]\n",
      "len [[ 0  0  8 -1  7 -1]]\n",
      "touch [[0 0 1 1 5 1]]\n",
      "----------\n",
      "len [[ 0  0  8 -1 -1 -1]]\n",
      "len [[ 0  0  8 -1 -1 -1]]\n",
      "touch [[0 0 1 1 5 1]]\n"
     ]
    },
    {
     "data": {
      "text/plain": [
       "{(1, 2), (1, 3), (1, 5), (5, 4)}"
      ]
     },
     "execution_count": 36,
     "metadata": {},
     "output_type": "execute_result"
    }
   ],
   "source": [
    "dijkstra(n,W,F)"
   ]
  },
  {
   "cell_type": "code",
   "execution_count": null,
   "metadata": {},
   "outputs": [],
   "source": []
  },
  {
   "cell_type": "code",
   "execution_count": null,
   "metadata": {},
   "outputs": [],
   "source": []
  }
 ],
 "metadata": {
  "kernelspec": {
   "display_name": "Python 3",
   "language": "python",
   "name": "python3"
  },
  "language_info": {
   "codemirror_mode": {
    "name": "ipython",
    "version": 3
   },
   "file_extension": ".py",
   "mimetype": "text/x-python",
   "name": "python",
   "nbconvert_exporter": "python",
   "pygments_lexer": "ipython3",
   "version": "3.6.4"
  }
 },
 "nbformat": 4,
 "nbformat_minor": 2
}
