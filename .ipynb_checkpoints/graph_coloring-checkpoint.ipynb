{
 "cells": [
  {
   "cell_type": "code",
   "execution_count": 1,
   "metadata": {},
   "outputs": [],
   "source": [
    "from numpy import *"
   ]
  },
  {
   "cell_type": "code",
   "execution_count": 12,
   "metadata": {},
   "outputs": [],
   "source": [
    "def m_coloring(i) :\n",
    "    def promising(i) :\n",
    "        switch = True\n",
    "        for j in range(1,i):\n",
    "            if W[i][j] and vcolor[i] == vcolor[j]:\n",
    "                switch = False\n",
    "                break;\n",
    "        return switch\n",
    "    if promising(i) :\n",
    "        if i == n :\n",
    "            for j in range(1,n+1) :\n",
    "                print(vcolor[j],', ',end='')\n",
    "            print()\n",
    "        else :\n",
    "            for color in range(1,m+1) :\n",
    "                vcolor[i+1] = color\n",
    "                m_coloring(i+1)"
   ]
  },
  {
   "cell_type": "markdown",
   "metadata": {},
   "source": [
    "T = True\n",
    "F = False\n",
    "n = 4\n",
    "m = 3\n",
    "W = array([[F,F,F,F,F],\n",
    "           [F,T,T,T,T],\n",
    "           [F,T,T,T,F],\n",
    "           [F,T,T,T,T],\n",
    "           [F,T,F,T,T]])\n",
    "vcolor = zeros((n+1,),dtype=int64)"
   ]
  },
  {
   "cell_type": "code",
   "execution_count": 9,
   "metadata": {},
   "outputs": [
    {
     "data": {
      "text/plain": [
       "array([0, 0, 0, 0, 0])"
      ]
     },
     "execution_count": 9,
     "metadata": {},
     "output_type": "execute_result"
    }
   ],
   "source": [
    "vcolor"
   ]
  },
  {
   "cell_type": "code",
   "execution_count": 14,
   "metadata": {},
   "outputs": [
    {
     "name": "stdout",
     "output_type": "stream",
     "text": [
      "1 , 2 , 3 , 2 , \n",
      "1 , 3 , 2 , 3 , \n",
      "2 , 1 , 3 , 1 , \n",
      "2 , 3 , 1 , 3 , \n",
      "3 , 1 , 2 , 1 , \n",
      "3 , 2 , 1 , 2 , \n"
     ]
    }
   ],
   "source": [
    "m_coloring(0)"
   ]
  }
 ],
 "metadata": {
  "kernelspec": {
   "display_name": "Python 3",
   "language": "python",
   "name": "python3"
  },
  "language_info": {
   "codemirror_mode": {
    "name": "ipython",
    "version": 3
   },
   "file_extension": ".py",
   "mimetype": "text/x-python",
   "name": "python",
   "nbconvert_exporter": "python",
   "pygments_lexer": "ipython3",
   "version": "3.6.4"
  }
 },
 "nbformat": 4,
 "nbformat_minor": 2
}
