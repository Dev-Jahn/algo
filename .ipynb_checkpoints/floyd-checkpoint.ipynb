{
 "cells": [
  {
   "cell_type": "code",
   "execution_count": 1,
   "metadata": {},
   "outputs": [],
   "source": [
    "from numpy import *\n",
    "import random"
   ]
  },
  {
   "cell_type": "code",
   "execution_count": 2,
   "metadata": {},
   "outputs": [],
   "source": [
    "def floyd2(n, W, D, P):\n",
    "    for k in range(n):\n",
    "        for i in range(n):\n",
    "            for j in range(n):\n",
    "                if D[i,k] + D[k,j] < D[i,j]:\n",
    "                    P[i,j] = int(k+1)\n",
    "                    D[i,j] = D[i,k] + D[k,j]\n",
    "def path(P,Q,R):\n",
    "    q = int(Q-1)\n",
    "    r = int(R-1)\n",
    "    if P[q,r] != 0:\n",
    "        path(P,Q,P[q,r])\n",
    "        print('v',P[q,r])\n",
    "        path(P,P[q,r],R)"
   ]
  },
  {
   "cell_type": "code",
   "execution_count": 22,
   "metadata": {},
   "outputs": [],
   "source": [
    "n = 5\n",
    "W = array([[0,1,inf,1,5],\n",
    "           [9,0,3,2,inf],\n",
    "           [inf,inf,0,4,inf],\n",
    "           [inf,inf,2,0,3],\n",
    "           [3,inf,inf,inf,0]])\n",
    "D = array(W)\n",
    "P = zeros((n,n),dtype = int64)"
   ]
  },
  {
   "cell_type": "code",
   "execution_count": 23,
   "metadata": {},
   "outputs": [],
   "source": [
    "floyd2(n, W, D, P)"
   ]
  },
  {
   "cell_type": "code",
   "execution_count": 24,
   "metadata": {},
   "outputs": [
    {
     "name": "stdout",
     "output_type": "stream",
     "text": [
      "[[ 0.  1. inf  1.  5.]\n",
      " [ 9.  0.  3.  2. inf]\n",
      " [inf inf  0.  4. inf]\n",
      " [inf inf  2.  0.  3.]\n",
      " [ 3. inf inf inf  0.]]\n",
      "[[ 0.  1.  3.  1.  4.]\n",
      " [ 8.  0.  3.  2.  5.]\n",
      " [10. 11.  0.  4.  7.]\n",
      " [ 6.  7.  2.  0.  3.]\n",
      " [ 3.  4.  6.  4.  0.]]\n",
      "[[0 0 4 0 4]\n",
      " [5 0 0 0 4]\n",
      " [5 5 0 0 4]\n",
      " [5 5 0 0 0]\n",
      " [0 1 4 1 0]]\n",
      "v 1\n",
      "v 4\n"
     ]
    }
   ],
   "source": [
    "print(W)\n",
    "print(D)\n",
    "print(P)\n",
    "path(P,5,3)"
   ]
  },
  {
   "cell_type": "code",
   "execution_count": 36,
   "metadata": {},
   "outputs": [
    {
     "name": "stdout",
     "output_type": "stream",
     "text": [
      "[[ 0.  3. inf inf  5.]\n",
      " [ 9.  0.  9. inf inf]\n",
      " [ 2.  1.  0. inf  8.]\n",
      " [inf  1.  9.  0. inf]\n",
      " [ 5. inf inf  1.  0.]]\n",
      "[[ 0.  3. 12.  6.  5.]\n",
      " [ 9.  0.  9. 15. 14.]\n",
      " [ 2.  1.  0.  8.  7.]\n",
      " [10.  1.  9.  0. 15.]\n",
      " [ 5.  2. 10.  1.  0.]]\n",
      "[[0 0 2 5 0]\n",
      " [0 0 0 5 1]\n",
      " [0 0 0 5 1]\n",
      " [2 0 0 0 2]\n",
      " [0 4 4 0 0]]\n",
      "v 1\n",
      "v 5\n"
     ]
    }
   ],
   "source": [
    "n = 5\n",
    "random.seed(1)\n",
    "W2 = zeros((n,n))\n",
    "pool = list(range(1,10))\n",
    "pool.append(inf)\n",
    "weights = [1]*9+[9]\n",
    "for i in range(n):\n",
    "    for j in range(n):\n",
    "        if i!=j:\n",
    "            W2[i,j] = random.choices(pool,weights)[0]\n",
    "D2 = array(W2)\n",
    "P2 = zeros((n,n),dtype = int64)\n",
    "floyd2(n,W2,D2,P2)\n",
    "print(W2)\n",
    "print(D2)\n",
    "print(P2)\n",
    "path(P2,2,4)"
   ]
  },
  {
   "cell_type": "code",
   "execution_count": null,
   "metadata": {},
   "outputs": [],
   "source": []
  }
 ],
 "metadata": {
  "kernelspec": {
   "display_name": "Python 3",
   "language": "python",
   "name": "python3"
  },
  "language_info": {
   "codemirror_mode": {
    "name": "ipython",
    "version": 3
   },
   "file_extension": ".py",
   "mimetype": "text/x-python",
   "name": "python",
   "nbconvert_exporter": "python",
   "pygments_lexer": "ipython3",
   "version": "3.6.4"
  }
 },
 "nbformat": 4,
 "nbformat_minor": 2
}
