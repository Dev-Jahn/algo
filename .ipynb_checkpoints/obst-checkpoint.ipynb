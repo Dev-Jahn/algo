{
 "cells": [
  {
   "cell_type": "code",
   "execution_count": 1,
   "metadata": {},
   "outputs": [],
   "source": [
    "import numpy as np"
   ]
  },
  {
   "cell_type": "code",
   "execution_count": 66,
   "metadata": {},
   "outputs": [],
   "source": [
    "def obst(n,p,R):\n",
    "    A = np.pad(np.diag(p),(1,0),mode='constant',constant_values=(0))\n",
    "    A = np.array(list(A.ravel()) + [0]*5).reshape((6,5))\n",
    "    R = np.pad(np.diag(np.arange(1,n+1)),(1,0),mode='constant',constant_values=(0))\n",
    "    for diag in range(1,n):\n",
    "        for i in range(1,n-diag+1):\n",
    "            j = i+diag\n",
    "            print('i=',i,' j=',j)\n",
    "            mlist = [A[i,k-1]+A[k+1,j] for k in range(i,j+1)]\n",
    "            A[i,j] = min(mlist)+sum(p[i-1:j])\n",
    "            R[i,j] = i+np.argmin(mlist)\n",
    "    print(A)\n",
    "    print(R)\n",
    "    return A[1,n]"
   ]
  },
  {
   "cell_type": "code",
   "execution_count": 67,
   "metadata": {},
   "outputs": [],
   "source": [
    "n = 4\n",
    "p = [3/8,3/8,1/8,1/8]\n",
    "R = np.zeros((n+1,n+1))"
   ]
  },
  {
   "cell_type": "code",
   "execution_count": 68,
   "metadata": {},
   "outputs": [
    {
     "name": "stdout",
     "output_type": "stream",
     "text": [
      "i= 1  j= 2\n",
      "i= 2  j= 3\n",
      "i= 3  j= 4\n",
      "i= 1  j= 3\n",
      "i= 2  j= 4\n",
      "i= 1  j= 4\n",
      "[[0.    0.    0.    0.    0.   ]\n",
      " [0.    0.375 1.125 1.375 1.75 ]\n",
      " [0.    0.    0.375 0.625 1.   ]\n",
      " [0.    0.    0.    0.125 0.375]\n",
      " [0.    0.    0.    0.    0.125]\n",
      " [0.    0.    0.    0.    0.   ]]\n",
      "[[0 0 0 0 0]\n",
      " [0 1 1 2 2]\n",
      " [0 0 2 2 2]\n",
      " [0 0 0 3 3]\n",
      " [0 0 0 0 4]]\n"
     ]
    },
    {
     "data": {
      "text/plain": [
       "1.75"
      ]
     },
     "execution_count": 68,
     "metadata": {},
     "output_type": "execute_result"
    }
   ],
   "source": [
    "obst(n,p,R)"
   ]
  }
 ],
 "metadata": {
  "kernelspec": {
   "display_name": "Python 3",
   "language": "python",
   "name": "python3"
  },
  "language_info": {
   "codemirror_mode": {
    "name": "ipython",
    "version": 3
   },
   "file_extension": ".py",
   "mimetype": "text/x-python",
   "name": "python",
   "nbconvert_exporter": "python",
   "pygments_lexer": "ipython3",
   "version": "3.6.4"
  }
 },
 "nbformat": 4,
 "nbformat_minor": 2
}
