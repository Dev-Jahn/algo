{
 "cells": [
  {
   "cell_type": "code",
   "execution_count": 43,
   "metadata": {},
   "outputs": [],
   "source": [
    "from numpy import *"
   ]
  },
  {
   "cell_type": "code",
   "execution_count": 44,
   "metadata": {},
   "outputs": [],
   "source": [
    "n = 4\n",
    "W = 13\n",
    "w = array([0,3,4,5,6])\n",
    "include = zeros((n+1,),dtype=str)"
   ]
  },
  {
   "cell_type": "code",
   "execution_count": 48,
   "metadata": {},
   "outputs": [],
   "source": [
    "def sum_of_subsets(i, weight, total):\n",
    "    def promising(i):\n",
    "        return (weight + total >= W) and (weight == W or weight + w[i+1] <= W)\n",
    "    if promising(i) :\n",
    "        if weight == W :\n",
    "            for j in range(1,i+1):\n",
    "                print('w',j,': ',include[j])\n",
    "        else :\n",
    "            include[i+1] = 'y'\n",
    "            sum_of_subsets(i+1, weight+w[i+1], total-w[i+1])\n",
    "            include[i+1] = 'n'\n",
    "            sum_of_subsets(i+1, weight, total-w[i+1])"
   ]
  },
  {
   "cell_type": "code",
   "execution_count": 49,
   "metadata": {},
   "outputs": [],
   "source": [
    "total = w.sum()"
   ]
  },
  {
   "cell_type": "code",
   "execution_count": 50,
   "metadata": {},
   "outputs": [
    {
     "name": "stdout",
     "output_type": "stream",
     "text": [
      "w 1 :  y\n",
      "w 2 :  y\n",
      "w 3 :  n\n",
      "w 4 :  y\n"
     ]
    }
   ],
   "source": [
    "sum_of_subsets(0,0,total)"
   ]
  },
  {
   "cell_type": "code",
   "execution_count": null,
   "metadata": {},
   "outputs": [],
   "source": []
  }
 ],
 "metadata": {
  "kernelspec": {
   "display_name": "Python 3",
   "language": "python",
   "name": "python3"
  },
  "language_info": {
   "codemirror_mode": {
    "name": "ipython",
    "version": 3
   },
   "file_extension": ".py",
   "mimetype": "text/x-python",
   "name": "python",
   "nbconvert_exporter": "python",
   "pygments_lexer": "ipython3",
   "version": "3.6.4"
  }
 },
 "nbformat": 4,
 "nbformat_minor": 2
}
