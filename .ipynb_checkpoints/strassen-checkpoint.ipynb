{
 "cells": [
  {
   "cell_type": "code",
   "execution_count": 12,
   "metadata": {},
   "outputs": [],
   "source": [
    "import numpy as np\n",
    "import math\n",
    "import random"
   ]
  },
  {
   "cell_type": "code",
   "execution_count": 13,
   "metadata": {},
   "outputs": [],
   "source": [
    "def is_int(val):\n",
    "    if type(val) == int:\n",
    "        return True\n",
    "    else:\n",
    "        if val.is_integer():\n",
    "            return True\n",
    "        else:\n",
    "            return False"
   ]
  },
  {
   "cell_type": "code",
   "execution_count": 14,
   "metadata": {},
   "outputs": [],
   "source": [
    "def classic(a, b):\n",
    "    if not (is_int(math.log2(a.shape[0])) and\n",
    "            is_int(math.log2(a.shape[1])) and\n",
    "            is_int(math.log2(b.shape[0])) and \n",
    "            is_int(math.log2(b.shape[1]))) :\n",
    "        raise Exception\n",
    "    ret = np.zeros((a.shape[0],b.shape[1]), dtype=np.int64)\n",
    "    for i in range(a.shape[0]):\n",
    "        for j in range(b.shape[1]):\n",
    "            ans = 0\n",
    "            for k in range(a.shape[1]):\n",
    "                ans += a[i,k]*b[k,j]\n",
    "            ret[i,j] = ans\n",
    "    return ret"
   ]
  },
  {
   "cell_type": "code",
   "execution_count": 15,
   "metadata": {},
   "outputs": [],
   "source": [
    "def strassen(n, a, b):\n",
    "    if not (is_int(math.log2(n))):\n",
    "        raise Exception\n",
    "    a11 = a[0:n//2,0:n//2]\n",
    "    a12 = a[0:n//2,n//2:n]\n",
    "    a21 = a[n//2:n,0:n//2]\n",
    "    a22 = a[n//2:n,n//2:n]\n",
    "    b11 = b[0:n//2,0:n//2]\n",
    "    b12 = b[0:n//2,n//2:n]\n",
    "    b21 = b[n//2:n,0:n//2]\n",
    "    b22 = b[n//2:n,n//2:n]\n",
    "    if n==2 :\n",
    "        m1 = (a11[0,0]+a22[0,0])*(b11[0,0]+b22[0,0])\n",
    "        m2 = (a21[0,0]+a22[0,0])*b11[0,0]\n",
    "        m3 = a11[0,0]*(b12[0,0]-b22[0,0])\n",
    "        m4 = a22[0,0]*(b21[0,0]-b11[0,0])\n",
    "        m5 = (a11[0,0]+a12[0,0])*b22[0,0]\n",
    "        m6 = (a21[0,0]-a11[0,0])*(b11[0,0]+b12[0,0])\n",
    "        m7 = (a12[0,0]-a22[0,0])*(b21[0,0]+b22[0,0])\n",
    "    else:     \n",
    "        m1 = strassen(n//2, a11+a22, b11+b22)\n",
    "        m2 = strassen(n//2, a21+a22, b11)\n",
    "        m3 = strassen(n//2, a11, b12-b22)\n",
    "        m4 = strassen(n//2, a22, b21-b11)\n",
    "        m5 = strassen(n//2, a11+a12, b22)\n",
    "        m6 = strassen(n//2, a21-a11, b11+b12)\n",
    "        m7 = strassen(n//2, a12-a22, b21+b22)\n",
    "    ret = np.zeros((n,n),dtype=np.int64)\n",
    "    ret[0:n//2,0:n//2] = m1+m4-m5+m7\n",
    "    ret[0:n//2,n//2:n] = m3+m5\n",
    "    ret[n//2:n,0:n//2] = m2+m4\n",
    "    ret[n//2:n,n//2:n] = m1+m3-m2+m6\n",
    "    return ret"
   ]
  },
  {
   "cell_type": "code",
   "execution_count": 16,
   "metadata": {},
   "outputs": [],
   "source": [
    "a = np.array([[1,2,3,4],[5,6,7,8],[9,1,2,3],[4,5,6,7]])\n",
    "b = np.array([[8,9,1,2],[3,4,5,6],[7,8,9,1],[2,3,4,5]])"
   ]
  },
  {
   "cell_type": "code",
   "execution_count": 17,
   "metadata": {},
   "outputs": [
    {
     "data": {
      "text/plain": [
       "array([[ 43,  53,  54,  37],\n",
       "       [123, 149, 130,  93],\n",
       "       [ 95, 110,  44,  41],\n",
       "       [103, 125, 111,  79]])"
      ]
     },
     "execution_count": 17,
     "metadata": {},
     "output_type": "execute_result"
    }
   ],
   "source": [
    "a@b"
   ]
  },
  {
   "cell_type": "code",
   "execution_count": 18,
   "metadata": {},
   "outputs": [
    {
     "data": {
      "text/plain": [
       "array([[ 43,  53,  54,  37],\n",
       "       [123, 149, 130,  93],\n",
       "       [ 95, 110,  44,  41],\n",
       "       [103, 125, 111,  79]])"
      ]
     },
     "execution_count": 18,
     "metadata": {},
     "output_type": "execute_result"
    }
   ],
   "source": [
    "classic(a,b)"
   ]
  },
  {
   "cell_type": "code",
   "execution_count": 19,
   "metadata": {},
   "outputs": [
    {
     "data": {
      "text/plain": [
       "array([[ 43,  53,  54,  37],\n",
       "       [123, 149, 130,  93],\n",
       "       [ 95, 110,  44,  41],\n",
       "       [103, 125, 111,  79]])"
      ]
     },
     "execution_count": 19,
     "metadata": {},
     "output_type": "execute_result"
    }
   ],
   "source": [
    "strassen(4, a,b)"
   ]
  },
  {
   "cell_type": "code",
   "execution_count": 56,
   "metadata": {},
   "outputs": [
    {
     "data": {
      "text/plain": [
       "array([[5, 6, 9, 1],\n",
       "       [8, 4, 1, 3],\n",
       "       [2, 6, 8, 4],\n",
       "       [7, 9, 2, 4]])"
      ]
     },
     "execution_count": 56,
     "metadata": {},
     "output_type": "execute_result"
    }
   ],
   "source": [
    "random.seed(5)\n",
    "arr = np.zeros((4,4),dtype=np.int64)\n",
    "for i in range(arr.size):\n",
    "    arr.put(i, random.randint(1,9))\n",
    "arr"
   ]
  }
 ],
 "metadata": {
  "kernelspec": {
   "display_name": "Python 3",
   "language": "python",
   "name": "python3"
  },
  "language_info": {
   "codemirror_mode": {
    "name": "ipython",
    "version": 3
   },
   "file_extension": ".py",
   "mimetype": "text/x-python",
   "name": "python",
   "nbconvert_exporter": "python",
   "pygments_lexer": "ipython3",
   "version": "3.6.4"
  }
 },
 "nbformat": 4,
 "nbformat_minor": 2
}
