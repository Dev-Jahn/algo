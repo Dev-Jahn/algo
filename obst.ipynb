{
 "cells": [
  {
   "cell_type": "code",
   "execution_count": 20,
   "metadata": {
    "scrolled": true
   },
   "outputs": [],
   "source": [
    "import numpy as np"
   ]
  },
  {
   "cell_type": "code",
   "execution_count": 48,
   "metadata": {
    "scrolled": true
   },
   "outputs": [],
   "source": [
    "def obst(n,p,R):\n",
    "    A = np.pad(np.diag(p),(1,0),mode='constant',constant_values=(0))\n",
    "    A = np.array(list(A.ravel()) + [0]*(n+1)).reshape((n+2,n+1))\n",
    "    R = np.pad(np.diag(np.arange(1,n+1)),(1,0),mode='constant',constant_values=(0))\n",
    "    for diag in range(1,n):\n",
    "        for i in range(1,n-diag+1):\n",
    "            j = i+diag\n",
    "            #print('diag=',diag,'i=',i,' j=',j)\n",
    "            mlist = [A[i,k-1]+A[k+1,j] for k in range(i,j+1)]\n",
    "            #print('min:',mlist)\n",
    "            A[i,j] = min(mlist)+sum(p[i-1:j])\n",
    "            #print('p:',p[i-1:j])\n",
    "            #print('A[i,j]:',A[i,j])\n",
    "            R[i,j] = i+np.argmin(mlist)\n",
    "            #print('R[i,j]:',R[i,j])\n",
    "            #print()\n",
    "    print()\n",
    "    print('array A')\n",
    "    print(A,'\\n')\n",
    "    print('array R')\n",
    "    print(R,'\\n')\n",
    "    return A[1,n]"
   ]
  },
  {
   "cell_type": "code",
   "execution_count": 49,
   "metadata": {
    "scrolled": true
   },
   "outputs": [],
   "source": [
    "n = 4\n",
    "p = [3/8,3/8,1/8,1/8]\n",
    "R = np.zeros((n+1,n+1))"
   ]
  },
  {
   "cell_type": "code",
   "execution_count": 50,
   "metadata": {
    "scrolled": true
   },
   "outputs": [
    {
     "name": "stdout",
     "output_type": "stream",
     "text": [
      "\n",
      "array A\n",
      "[[0.    0.    0.    0.    0.   ]\n",
      " [0.    0.375 1.125 1.375 1.75 ]\n",
      " [0.    0.    0.375 0.625 1.   ]\n",
      " [0.    0.    0.    0.125 0.375]\n",
      " [0.    0.    0.    0.    0.125]\n",
      " [0.    0.    0.    0.    0.   ]] \n",
      "\n",
      "array R\n",
      "[[0 0 0 0 0]\n",
      " [0 1 1 2 2]\n",
      " [0 0 2 2 2]\n",
      " [0 0 0 3 3]\n",
      " [0 0 0 0 4]] \n",
      "\n",
      "minimum cost: 1.75\n"
     ]
    }
   ],
   "source": [
    "print('minimum cost:',obst(n,p,R))"
   ]
  },
  {
   "cell_type": "code",
   "execution_count": 51,
   "metadata": {
    "scrolled": true
   },
   "outputs": [],
   "source": [
    "n = 6\n",
    "p = [2/16,1/16,3/16,2/16,5/16,3/16]\n",
    "R = np.zeros((n+1,n+1))"
   ]
  },
  {
   "cell_type": "code",
   "execution_count": 52,
   "metadata": {
    "scrolled": false
   },
   "outputs": [
    {
     "name": "stdout",
     "output_type": "stream",
     "text": [
      "\n",
      "array A\n",
      "[[0.     0.     0.     0.     0.     0.     0.    ]\n",
      " [0.     0.125  0.25   0.625  0.875  1.625  2.0625]\n",
      " [0.     0.     0.0625 0.3125 0.5625 1.25   1.625 ]\n",
      " [0.     0.     0.     0.1875 0.4375 1.0625 1.4375]\n",
      " [0.     0.     0.     0.     0.125  0.5625 0.9375]\n",
      " [0.     0.     0.     0.     0.     0.3125 0.6875]\n",
      " [0.     0.     0.     0.     0.     0.     0.1875]\n",
      " [0.     0.     0.     0.     0.     0.     0.    ]] \n",
      "\n",
      "array R\n",
      "[[0 0 0 0 0 0 0]\n",
      " [0 1 1 3 3 3 5]\n",
      " [0 0 2 3 3 5 5]\n",
      " [0 0 0 3 3 5 5]\n",
      " [0 0 0 0 4 5 5]\n",
      " [0 0 0 0 0 5 5]\n",
      " [0 0 0 0 0 0 6]] \n",
      "\n",
      "minimum cost: 2.0625\n"
     ]
    }
   ],
   "source": [
    "print('minimum cost:',obst(n,p,R))"
   ]
  },
  {
   "cell_type": "code",
   "execution_count": null,
   "metadata": {
    "scrolled": true
   },
   "outputs": [],
   "source": []
  },
  {
   "cell_type": "code",
   "execution_count": null,
   "metadata": {
    "scrolled": true
   },
   "outputs": [],
   "source": []
  }
 ],
 "metadata": {
  "kernelspec": {
   "display_name": "Python 3",
   "language": "python",
   "name": "python3"
  },
  "language_info": {
   "codemirror_mode": {
    "name": "ipython",
    "version": 3
   },
   "file_extension": ".py",
   "mimetype": "text/x-python",
   "name": "python",
   "nbconvert_exporter": "python",
   "pygments_lexer": "ipython3",
   "version": "3.6.4"
  }
 },
 "nbformat": 4,
 "nbformat_minor": 2
}
